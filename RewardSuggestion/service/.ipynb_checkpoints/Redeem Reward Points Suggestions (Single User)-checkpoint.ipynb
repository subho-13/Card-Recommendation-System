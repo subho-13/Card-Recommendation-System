{
 "cells": [
  {
   "cell_type": "code",
   "execution_count": 1,
   "metadata": {},
   "outputs": [],
   "source": [
    "import numpy as np\n",
    "import pandas as pd\n",
    "import matplotlib.pyplot as plt\n",
    "import seaborn as sns\n",
    "from sklearn.preprocessing import MinMaxScaler\n",
    "from mlxtend.preprocessing import TransactionEncoder\n",
    "from mlxtend.frequent_patterns import fpgrowth, apriori, association_rules\n",
    "import json\n",
    "import pickle\n",
    "import openpyxl\n",
    "from CommonFunctions1 import *"
   ]
  },
  {
   "cell_type": "code",
   "execution_count": 2,
   "metadata": {},
   "outputs": [],
   "source": [
    "def user_list_generator(user_dict):\n",
    "    '''Converts the spendings of user from dict form to list form'''\n",
    "    \n",
    "    cats = ['Education', 'Entertainment', 'Food', 'Gas_trans', 'Grocery_net',\n",
    "            'Grocery_pos', 'Health', 'Home', 'Hotel', 'Kids_pets', 'Misc_net',\n",
    "            'Misc_pos', 'Personal', 'Shop_net', 'Shop_pos', 'Travel']\n",
    "    \n",
    "    user_list = []\n",
    "    for cat in cats:\n",
    "        user_list.append(user_dict[cat])\n",
    "    user_list = np.array(user_list)\n",
    "    return user_list"
   ]
  },
  {
   "cell_type": "code",
   "execution_count": 3,
   "metadata": {},
   "outputs": [],
   "source": [
    "def user_cat_list_generator(user):\n",
    "    '''Returns a list of categories for each user in which maximum\n",
    "       amount is spent by the user'''\n",
    "    \n",
    "    cat_list = ['Education', 'Entertainment', 'Food', 'Gas_trans', 'Grocery_net', 'Grocery_pos',\n",
    "                'Health', 'Home', 'Hotel', 'Kids_pets', 'Misc_net', 'Misc_pos', 'Personal', 'Shop_net', 'Shop_pos', 'Travel']\n",
    "    \n",
    "    user_cat = sorted(zip(user,cat_list),reverse=True)[:3]    # Sort user list and pick max 3 categories\n",
    "    user_cat_list = [cat[1] for cat in user_cat]                  # Extract cat no.\n",
    "    \n",
    "    return user_cat_list"
   ]
  },
  {
   "cell_type": "code",
   "execution_count": 4,
   "metadata": {},
   "outputs": [],
   "source": [
    "def association_generator(user_cat_list, cat_dict):\n",
    "    '''Generates the list of association categories for the user'''\n",
    "    \n",
    "    user = user_cat_list\n",
    "\n",
    "    # Find out all pairs of categories that may be present (max size -> 3)\n",
    "    check_list = [ tuple([user[0]]), tuple([user[1]]), tuple([user[2]]),\n",
    "                   tuple([user[0],user[1]]), tuple([user[0],user[2]]) ,tuple([user[1],user[2]]),\n",
    "                   tuple([user[0],user[1],user[2]])\n",
    "                 ]\n",
    "\n",
    "    # Check if a group of cats is present in cat_dict which contains association categories, then add them too\n",
    "    for check in check_list:\n",
    "        if check in cat_dict.keys():\n",
    "            user += cat_dict[check]\n",
    "    user = list(set(user))         # Extracting only unique categories\n",
    "    \n",
    "    return user"
   ]
  },
  {
   "cell_type": "code",
   "execution_count": 5,
   "metadata": {},
   "outputs": [],
   "source": [
    "def find_suggestions(user_association_list, df_prod, reward_points, factor = 1.5):\n",
    "    '''Given the product database and interest categories of user, returns\n",
    "    the list of 3 most favorable products to recommend to the user'''\n",
    "    \n",
    "    reward_points *= 1.5       # Find the reward point threshold\n",
    "    \n",
    "    # Find products in user's categories and which have reward points less then threshold\n",
    "    df_user = df_prod.loc[ (df_prod['product_category'].isin(user_association_list)) & (df_prod['reward_points_required'] <= reward_points)]\n",
    "\n",
    "    # Sort and find out top 3 products wrt to reward points\n",
    "    df_user = df_user.sort_values('reward_points_required', ascending=False)\n",
    "    val = df_user.values\n",
    "    products = list(val[:3,0])\n",
    "        \n",
    "    return products"
   ]
  },
  {
   "cell_type": "code",
   "execution_count": 6,
   "metadata": {},
   "outputs": [],
   "source": [
    "def give_suggestion(user_dict, reward_points):\n",
    "    '''Return product suggestions for a particular user'''\n",
    "    \n",
    "    df_prod = pd.read_excel('Product_Database.xlsx')\n",
    "    \n",
    "    with open('cat_dict.pickle', 'rb') as handle:\n",
    "        cat_dict = pickle.load(handle)\n",
    "        \n",
    "    user_list = user_list_generator(user_dict)\n",
    "    user_cat_list = user_cat_list_generator(user_list)\n",
    "    user_association_list = association_generator(user_cat_list, cat_dict)       # Add association categories to user_list\n",
    "    suggestion_list = find_suggestions(user_association_list, df_prod, reward_points)     # Find suggestions\n",
    "    return suggestion_list"
   ]
  },
  {
   "cell_type": "code",
   "execution_count": 7,
   "metadata": {},
   "outputs": [],
   "source": [
    "# Just to prepare scaled data\n",
    "\n",
    "df = pd.read_csv(\"Supervised database with rewards.csv\")\n",
    "df_cat = df.drop(['User_Id', 'job', 'credit_score','card_issue_date',\n",
    "                      'card_type', 'best_card'], axis=1)\n",
    "cats = df_cat.columns\n",
    "cats = cats[:16]\n",
    "cat_val = df_cat.values \n",
    "min_max_scaler = MinMaxScaler()                       # Scale the values along y axis in a range[0,1]\n",
    "cat_scaled = min_max_scaler.fit_transform(cat_val)"
   ]
  },
  {
   "cell_type": "code",
   "execution_count": 8,
   "metadata": {},
   "outputs": [],
   "source": [
    "c = ['Education', 'Entertainment', 'Food', 'Gas_trans', 'Grocery_net',\n",
    "       'Grocery_pos', 'Health', 'Home', 'Hotel', 'Kids_pets', 'Misc_net',\n",
    "       'Misc_pos', 'Personal', 'Shop_net', 'Shop_pos', 'Travel']"
   ]
  },
  {
   "cell_type": "code",
   "execution_count": 9,
   "metadata": {},
   "outputs": [],
   "source": [
    "data = cat_scaled[201,:16]"
   ]
  },
  {
   "cell_type": "code",
   "execution_count": 10,
   "metadata": {},
   "outputs": [],
   "source": [
    "dict1 = {}\n",
    "for i,d in enumerate(data):\n",
    "    dict1[c[i]] = d"
   ]
  },
  {
   "cell_type": "code",
   "execution_count": 11,
   "metadata": {},
   "outputs": [
    {
     "data": {
      "text/plain": [
       "array([0.        , 0.42173989, 0.5128385 , 0.66543102, 0.55814329,\n",
       "       0.24788408, 0.68487484, 0.69912638, 0.50245959, 0.62769921,\n",
       "       0.58247067, 0.13344482, 0.28989622, 0.18350057, 0.24502038,\n",
       "       0.06046367])"
      ]
     },
     "execution_count": 11,
     "metadata": {},
     "output_type": "execute_result"
    }
   ],
   "source": [
    "user_l = user_list_generator(dict1)\n",
    "user_l"
   ]
  },
  {
   "cell_type": "code",
   "execution_count": 12,
   "metadata": {},
   "outputs": [
    {
     "data": {
      "text/plain": [
       "[50, 49, 16]"
      ]
     },
     "execution_count": 12,
     "metadata": {},
     "output_type": "execute_result"
    }
   ],
   "source": [
    "suggestion_list = give_suggestion(dict1, cat_val[201][16])\n",
    "suggestion_list"
   ]
  }
 ],
 "metadata": {
  "kernelspec": {
   "display_name": "Python 3",
   "language": "python",
   "name": "python3"
  },
  "language_info": {
   "codemirror_mode": {
    "name": "ipython",
    "version": 3
   },
   "file_extension": ".py",
   "mimetype": "text/x-python",
   "name": "python",
   "nbconvert_exporter": "python",
   "pygments_lexer": "ipython3",
   "version": "3.8.8"
  }
 },
 "nbformat": 4,
 "nbformat_minor": 4
}
