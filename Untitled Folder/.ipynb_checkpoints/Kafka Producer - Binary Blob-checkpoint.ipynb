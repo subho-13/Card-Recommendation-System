{
 "cells": [
  {
   "cell_type": "code",
   "execution_count": 11,
   "id": "mounted-emergency",
   "metadata": {},
   "outputs": [],
   "source": [
    "from kafka import KafkaProducer\n",
    "import pickle"
   ]
  },
  {
   "cell_type": "code",
   "execution_count": 12,
   "id": "parental-studio",
   "metadata": {},
   "outputs": [],
   "source": [
    "kafka_producer = KafkaProducer(bootstrap_servers=\"localhost:9092\", \n",
    "                               value_serializer=lambda message: pickle.dumps(message)\n",
    ")"
   ]
  },
  {
   "cell_type": "code",
   "execution_count": 19,
   "id": "quiet-mauritius",
   "metadata": {},
   "outputs": [],
   "source": [
    "class MyObject:\n",
    "    def __init__(self):\n",
    "        self.field_1 = 'Hi'\n",
    "        self.field_2 = [1, 2, 3, 4]\n",
    "        self.field_3 = 67\n",
    "        self.field_5 = {\n",
    "            \"hi\" : \"holla\"\n",
    "        }"
   ]
  },
  {
   "cell_type": "code",
   "execution_count": 20,
   "id": "environmental-briefing",
   "metadata": {},
   "outputs": [],
   "source": [
    "my_object = MyObject()"
   ]
  },
  {
   "cell_type": "code",
   "execution_count": 27,
   "id": "heavy-modeling",
   "metadata": {},
   "outputs": [
    {
     "data": {
      "text/plain": [
       "<kafka.producer.future.FutureRecordMetadata at 0x7f19d48d9b80>"
      ]
     },
     "execution_count": 27,
     "metadata": {},
     "output_type": "execute_result"
    }
   ],
   "source": [
    "kafka_producer.send(\"temp\", my_object)"
   ]
  },
  {
   "cell_type": "code",
   "execution_count": null,
   "id": "genuine-vatican",
   "metadata": {},
   "outputs": [],
   "source": []
  }
 ],
 "metadata": {
  "kernelspec": {
   "display_name": "Python 3",
   "language": "python",
   "name": "python3"
  },
  "language_info": {
   "codemirror_mode": {
    "name": "ipython",
    "version": 3
   },
   "file_extension": ".py",
   "mimetype": "text/x-python",
   "name": "python",
   "nbconvert_exporter": "python",
   "pygments_lexer": "ipython3",
   "version": "3.9.5"
  }
 },
 "nbformat": 4,
 "nbformat_minor": 5
}
