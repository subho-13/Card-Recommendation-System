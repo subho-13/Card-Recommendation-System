{
 "cells": [
  {
   "cell_type": "code",
   "execution_count": 1,
   "id": "bright-comparison",
   "metadata": {},
   "outputs": [],
   "source": [
    "from kafka import KafkaConsumer\n",
    "import pickle"
   ]
  },
  {
   "cell_type": "code",
   "execution_count": 2,
   "id": "straight-permit",
   "metadata": {},
   "outputs": [],
   "source": [
    "kafka_consumer = KafkaConsumer(\"temp\", group_id=\"consumer\",\n",
    "                                            bootstrap_servers=\"localhost:9092\",\n",
    "                                            value_deserializer=lambda message: pickle.loads(message),\n",
    "\n",
    "                              )"
   ]
  },
  {
   "cell_type": "code",
   "execution_count": 13,
   "id": "collaborative-review",
   "metadata": {},
   "outputs": [],
   "source": [
    "class MyObject:\n",
    "    def __init__(self):\n",
    "        self.standard_scaler = {\"18\": \"13\"}\n",
    "        self.model = [1, 2, 3]\n",
    "        \n",
    "    def update(self, another_object):\n",
    "        self.standard_scaler = another_object.standard_scaler\n",
    "        self.model = another_object.model\n",
    "    \n",
    "    def generate(self):\n",
    "        print(self.model)"
   ]
  },
  {
   "cell_type": "code",
   "execution_count": null,
   "id": "taken-clarity",
   "metadata": {},
   "outputs": [
    {
     "name": "stdout",
     "output_type": "stream",
     "text": [
      "[1, 2, 3]\n",
      "<__main__.MyObject object at 0x7f700c1e7f10>\n",
      "[1, 2, 3]\n",
      "<__main__.MyObject object at 0x7f700c1e7c10>\n",
      "[1, 2, 3, 4]\n",
      "<__main__.MyObject object at 0x7f700c1e5f40>\n",
      "[1, 2, 3, 4]\n",
      "<__main__.MyObject object at 0x7f700c2354f0>\n",
      "[1, 2, 3, 4, 5]\n",
      "<__main__.MyObject object at 0x7f700c1e7580>\n",
      "[1, 2, 3, 4, 5, 6]\n",
      "<__main__.MyObject object at 0x7f700c1e7c10>\n"
     ]
    }
   ],
   "source": [
    "my_object = MyObject()\n",
    "for message in kafka_consumer:\n",
    "    my_object.generate()\n",
    "    print(message.value)\n",
    "    my_object.update(message.value)"
   ]
  },
  {
   "cell_type": "code",
   "execution_count": null,
   "id": "interior-behalf",
   "metadata": {},
   "outputs": [],
   "source": []
  },
  {
   "cell_type": "code",
   "execution_count": null,
   "id": "christian-color",
   "metadata": {},
   "outputs": [],
   "source": []
  }
 ],
 "metadata": {
  "kernelspec": {
   "display_name": "Python 3",
   "language": "python",
   "name": "python3"
  },
  "language_info": {
   "codemirror_mode": {
    "name": "ipython",
    "version": 3
   },
   "file_extension": ".py",
   "mimetype": "text/x-python",
   "name": "python",
   "nbconvert_exporter": "python",
   "pygments_lexer": "ipython3",
   "version": "3.9.5"
  }
 },
 "nbformat": 4,
 "nbformat_minor": 5
}
