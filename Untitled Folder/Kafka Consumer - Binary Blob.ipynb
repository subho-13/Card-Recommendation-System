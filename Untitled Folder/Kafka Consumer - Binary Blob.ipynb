{
 "cells": [
  {
   "cell_type": "code",
   "execution_count": 11,
   "id": "bright-comparison",
   "metadata": {},
   "outputs": [],
   "source": [
    "from kafka import KafkaConsumer\n",
    "import pickle"
   ]
  },
  {
   "cell_type": "code",
   "execution_count": 18,
   "id": "straight-permit",
   "metadata": {},
   "outputs": [],
   "source": [
    "kafka_consumer = KafkaConsumer(\"temp\", group_id=\"consumer\",\n",
    "                                            bootstrap_servers=\"localhost:9092\",\n",
    "                                            value_deserializer=lambda message: pickle.loads(message),\n",
    "\n",
    "                              )"
   ]
  },
  {
   "cell_type": "code",
   "execution_count": 24,
   "id": "collaborative-review",
   "metadata": {},
   "outputs": [],
   "source": [
    "class MyObject:\n",
    "    def __init__(self):\n",
    "        self.field_1 = 'Hi'\n",
    "        self.field_2 = [1, 2, 3, 4]\n",
    "        self.field_3 = 67\n",
    "        self.field_5 = {\n",
    "            \"hi\" : \"holla\"\n",
    "        }\n",
    "    def show(self):\n",
    "        print(self.field_5)"
   ]
  },
  {
   "cell_type": "code",
   "execution_count": null,
   "id": "taken-clarity",
   "metadata": {},
   "outputs": [
    {
     "name": "stdout",
     "output_type": "stream",
     "text": [
      "{'hi': 'holla'}\n",
      "{'hi': 'holla'}\n"
     ]
    }
   ],
   "source": [
    "for message in kafka_consumer:\n",
    "    value = message.value\n",
    "    value.show()"
   ]
  },
  {
   "cell_type": "code",
   "execution_count": null,
   "id": "interior-behalf",
   "metadata": {},
   "outputs": [],
   "source": []
  },
  {
   "cell_type": "code",
   "execution_count": null,
   "id": "christian-color",
   "metadata": {},
   "outputs": [],
   "source": []
  }
 ],
 "metadata": {
  "kernelspec": {
   "display_name": "Python 3",
   "language": "python",
   "name": "python3"
  },
  "language_info": {
   "codemirror_mode": {
    "name": "ipython",
    "version": 3
   },
   "file_extension": ".py",
   "mimetype": "text/x-python",
   "name": "python",
   "nbconvert_exporter": "python",
   "pygments_lexer": "ipython3",
   "version": "3.9.5"
  }
 },
 "nbformat": 4,
 "nbformat_minor": 5
}
