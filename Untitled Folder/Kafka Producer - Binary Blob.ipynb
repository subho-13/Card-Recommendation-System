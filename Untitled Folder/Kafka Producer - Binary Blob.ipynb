{
 "cells": [
  {
   "cell_type": "code",
   "execution_count": 1,
   "id": "illegal-temperature",
   "metadata": {},
   "outputs": [],
   "source": [
    "from kafka import KafkaProducer\n",
    "import pickle"
   ]
  },
  {
   "cell_type": "code",
   "execution_count": 2,
   "id": "liked-spelling",
   "metadata": {},
   "outputs": [],
   "source": [
    "kafka_producer = KafkaProducer(bootstrap_servers=\"localhost:9092\", \n",
    "                               value_serializer=lambda message: pickle.dumps(message)\n",
    ")"
   ]
  },
  {
   "cell_type": "code",
   "execution_count": 28,
   "id": "statewide-characteristic",
   "metadata": {},
   "outputs": [],
   "source": [
    "class MyObject:\n",
    "    def __init__(self):\n",
    "        self.standard_scaler = {\"18\": \"13\"}\n",
    "        self.model = [1, 2, 3]\n",
    "        \n",
    "    def train(self):\n",
    "        self.standard_scaler = {\"1\": \"3\"}\n",
    "        self.model = [1, 2, 3, 4, 5, 6, 7]\n",
    "    \n",
    "    def update(self, another_object):\n",
    "        self.standard_scaler = another_object.standard_scaler\n",
    "        self.model = another_object.model\n",
    "    \n",
    "    def generate(self):\n",
    "        print(self.model)"
   ]
  },
  {
   "cell_type": "code",
   "execution_count": 29,
   "id": "angry-bride",
   "metadata": {},
   "outputs": [],
   "source": [
    "my_object = MyObject()\n",
    "my_object.train()"
   ]
  },
  {
   "cell_type": "code",
   "execution_count": 30,
   "id": "meaningful-peace",
   "metadata": {},
   "outputs": [
    {
     "data": {
      "text/plain": [
       "<kafka.producer.future.FutureRecordMetadata at 0x7f41abdcdaf0>"
      ]
     },
     "execution_count": 30,
     "metadata": {},
     "output_type": "execute_result"
    }
   ],
   "source": [
    "kafka_producer.send(\"temp\", my_object)"
   ]
  },
  {
   "cell_type": "code",
   "execution_count": null,
   "id": "brutal-blame",
   "metadata": {},
   "outputs": [],
   "source": []
  }
 ],
 "metadata": {
  "kernelspec": {
   "display_name": "Python 3",
   "language": "python",
   "name": "python3"
  },
  "language_info": {
   "codemirror_mode": {
    "name": "ipython",
    "version": 3
   },
   "file_extension": ".py",
   "mimetype": "text/x-python",
   "name": "python",
   "nbconvert_exporter": "python",
   "pygments_lexer": "ipython3",
   "version": "3.9.5"
  }
 },
 "nbformat": 4,
 "nbformat_minor": 5
}
