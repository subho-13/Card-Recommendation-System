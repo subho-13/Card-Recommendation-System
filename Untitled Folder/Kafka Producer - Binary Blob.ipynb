{
 "cells": [
  {
   "cell_type": "code",
   "execution_count": 11,
   "id": "illegal-temperature",
   "metadata": {},
   "outputs": [],
   "source": [
    "from kafka import KafkaProducer\n",
    "import pickle"
   ]
  },
  {
   "cell_type": "code",
   "execution_count": 12,
   "id": "liked-spelling",
   "metadata": {},
   "outputs": [],
   "source": [
    "kafka_producer = KafkaProducer(bootstrap_servers=\"localhost:9092\", \n",
    "                               value_serializer=lambda message: pickle.dumps(message)\n",
    ")"
   ]
  },
  {
   "cell_type": "code",
   "execution_count": 36,
   "id": "statewide-characteristic",
   "metadata": {},
   "outputs": [],
   "source": [
    "class MyObject:\n",
    "    def __init__(self):\n",
    "        self.field_1 = 'Hi'\n",
    "        self.field_2 = [1, 2, 3, 4]\n",
    "        self.field_3 = 67\n",
    "        self.field_5 = {\n",
    "            \"hi\" : \"holla\"\n",
    "        }\n",
    "    def show(self):\n",
    "        print(self.field_2)"
   ]
  },
  {
   "cell_type": "code",
   "execution_count": 37,
   "id": "angry-bride",
   "metadata": {},
   "outputs": [],
   "source": [
    "my_object = MyObject()"
   ]
  },
  {
   "cell_type": "code",
   "execution_count": 38,
   "id": "meaningful-peace",
   "metadata": {},
   "outputs": [
    {
     "data": {
      "text/plain": [
       "<kafka.producer.future.FutureRecordMetadata at 0x7f19d48d9a90>"
      ]
     },
     "execution_count": 38,
     "metadata": {},
     "output_type": "execute_result"
    }
   ],
   "source": [
    "kafka_producer.send(\"temp\", my_object)"
   ]
  },
  {
   "cell_type": "code",
   "execution_count": null,
   "id": "brutal-blame",
   "metadata": {},
   "outputs": [],
   "source": []
  }
 ],
 "metadata": {
  "kernelspec": {
   "display_name": "Python 3",
   "language": "python",
   "name": "python3"
  },
  "language_info": {
   "codemirror_mode": {
    "name": "ipython",
    "version": 3
   },
   "file_extension": ".py",
   "mimetype": "text/x-python",
   "name": "python",
   "nbconvert_exporter": "python",
   "pygments_lexer": "ipython3",
   "version": "3.9.5"
  }
 },
 "nbformat": 4,
 "nbformat_minor": 5
}
